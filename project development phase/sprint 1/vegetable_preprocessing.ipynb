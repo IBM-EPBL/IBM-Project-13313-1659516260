{
 "cells": [
  {
   "cell_type": "code",
   "execution_count": 1,
   "id": "b2419b85",
   "metadata": {},
   "outputs": [],
   "source": [
    "import tensorflow as tf"
   ]
  },
  {
   "cell_type": "code",
   "execution_count": 2,
   "id": "d9e2044d",
   "metadata": {},
   "outputs": [],
   "source": [
    "train_datagen = tf.keras.preprocessing.image.ImageDataGenerator(rescale = 1./255,shear_range = 0.2,zoom_range =0.2,horizontal_flip =True)"
   ]
  },
  {
   "cell_type": "code",
   "execution_count": 3,
   "id": "e63290d4",
   "metadata": {},
   "outputs": [],
   "source": [
    "test_datagen = tf.keras.preprocessing.image.ImageDataGenerator(rescale = 1)"
   ]
  },
  {
   "cell_type": "code",
   "execution_count": 4,
   "id": "c79f9883",
   "metadata": {},
   "outputs": [
    {
     "name": "stdout",
     "output_type": "stream",
     "text": [
      "Found 11386 images belonging to 9 classes.\n",
      "Found 3416 images belonging to 9 classes.\n"
     ]
    }
   ],
   "source": [
    "x_train = train_datagen.flow_from_directory('Dataset/Veg-dataset/Veg-dataset/train_set',\n",
    "                                           target_size = (128,128),batch_size = 32, class_mode= 'categorical')\n",
    "x_test = test_datagen.flow_from_directory('Dataset/Veg-dataset/Veg-dataset/test_set',\n",
    "                                           target_size = (128,128),batch_size = 32, class_mode= 'categorical')"
   ]
  }
 ],
 "metadata": {
  "kernelspec": {
   "display_name": "Python 3",
   "language": "python",
   "name": "python3"
  },
  "language_info": {
   "codemirror_mode": {
    "name": "ipython",
    "version": 3
   },
   "file_extension": ".py",
   "mimetype": "text/x-python",
   "name": "python",
   "nbconvert_exporter": "python",
   "pygments_lexer": "ipython3",
   "version": "3.9.7"
  }
 },
 "nbformat": 4,
 "nbformat_minor": 5
}
