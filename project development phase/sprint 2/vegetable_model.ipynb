{
 "cells": [
  {
   "cell_type": "code",
   "execution_count": 1,
   "id": "857ed5d0",
   "metadata": {},
   "outputs": [],
   "source": [
    "import tensorflow as tf"
   ]
  },
  {
   "cell_type": "code",
   "execution_count": 2,
   "id": "c6444e5b",
   "metadata": {},
   "outputs": [],
   "source": [
    "train_datagen = tf.keras.preprocessing.image.ImageDataGenerator(rescale = 1./255,shear_range = 0.2,zoom_range =0.2,horizontal_flip =True)"
   ]
  },
  {
   "cell_type": "code",
   "execution_count": 3,
   "id": "7336b9de",
   "metadata": {},
   "outputs": [],
   "source": [
    "test_datagen = tf.keras.preprocessing.image.ImageDataGenerator(rescale = 1)"
   ]
  },
  {
   "cell_type": "code",
   "execution_count": 5,
   "id": "dc85f848",
   "metadata": {},
   "outputs": [
    {
     "name": "stdout",
     "output_type": "stream",
     "text": [
      "Found 11386 images belonging to 9 classes.\n",
      "Found 3416 images belonging to 9 classes.\n"
     ]
    }
   ],
   "source": [
    "x_train = train_datagen.flow_from_directory('Dataset/Veg-dataset/Veg-dataset/train_set',\n",
    "                                           target_size = (128,128),batch_size = 32, class_mode= 'categorical')\n",
    "x_test = test_datagen.flow_from_directory('Dataset/Veg-dataset/Veg-dataset/test_set',\n",
    "                                           target_size = (128,128),batch_size = 32, class_mode= 'categorical')"
   ]
  },
  {
   "cell_type": "code",
   "execution_count": 6,
   "id": "25d2fb12",
   "metadata": {},
   "outputs": [],
   "source": [
    "from tensorflow.keras.models import Sequential\n",
    "from tensorflow.keras.layers import Dense\n",
    "from tensorflow.keras.layers import Convolution2D\n",
    "from tensorflow.keras.layers import MaxPooling2D\n",
    "from tensorflow.keras.layers import Flatten"
   ]
  },
  {
   "cell_type": "code",
   "execution_count": 7,
   "id": "5ac19835",
   "metadata": {},
   "outputs": [],
   "source": [
    "model = Sequential()\n",
    "model.add(Convolution2D(32,(3,3),input_shape = (128,128,3),activation ='relu'))\n",
    "model.add(MaxPooling2D(pool_size = (2,2)))\n",
    "model.add(Flatten())\n",
    "model.add(Dense(300,activation ='relu'))\n",
    "model.add(Dense(150,activation = 'relu'))\n",
    "model.add(Dense(75,activation ='relu'))\n",
    "model.add(Dense(9,activation='softmax'))"
   ]
  },
  {
   "cell_type": "code",
   "execution_count": 8,
   "id": "efc5050f",
   "metadata": {},
   "outputs": [],
   "source": [
    "model.compile(loss='categorical_crossentropy',optimizer='adam',metrics=['accuracy'])"
   ]
  },
  {
   "cell_type": "code",
   "execution_count": 10,
   "id": "e3c03238",
   "metadata": {},
   "outputs": [
    {
     "name": "stdout",
     "output_type": "stream",
     "text": [
      "Epoch 1/10\n"
     ]
    },
    {
     "name": "stderr",
     "output_type": "stream",
     "text": [
      "<ipython-input-10-3c1609b09789>:1: UserWarning: `Model.fit_generator` is deprecated and will be removed in a future version. Please use `Model.fit`, which supports generators.\n",
      "  model.fit_generator(x_train,steps_per_epoch=89,\n"
     ]
    },
    {
     "name": "stdout",
     "output_type": "stream",
     "text": [
      "89/89 [==============================] - 17s 157ms/step - loss: 2.2486 - accuracy: 0.3136 - val_loss: 181.3354 - val_accuracy: 0.4602\n",
      "Epoch 2/10\n",
      "89/89 [==============================] - 14s 158ms/step - loss: 1.2046 - accuracy: 0.5885 - val_loss: 422.7194 - val_accuracy: 0.3586\n",
      "Epoch 3/10\n",
      "89/89 [==============================] - 14s 157ms/step - loss: 0.8799 - accuracy: 0.6963 - val_loss: 879.2288 - val_accuracy: 0.3645\n",
      "Epoch 4/10\n",
      "89/89 [==============================] - 14s 157ms/step - loss: 0.7634 - accuracy: 0.7314 - val_loss: 1012.0090 - val_accuracy: 0.3252\n",
      "Epoch 5/10\n",
      "89/89 [==============================] - 14s 162ms/step - loss: 0.6503 - accuracy: 0.7591 - val_loss: 1097.3250 - val_accuracy: 0.3501\n",
      "Epoch 6/10\n",
      "89/89 [==============================] - 14s 159ms/step - loss: 0.5866 - accuracy: 0.7918 - val_loss: 1271.1906 - val_accuracy: 0.3337\n",
      "Epoch 7/10\n",
      "89/89 [==============================] - 14s 156ms/step - loss: 0.5524 - accuracy: 0.8027 - val_loss: 1435.9591 - val_accuracy: 0.2995\n",
      "Epoch 8/10\n",
      "89/89 [==============================] - 14s 157ms/step - loss: 0.5405 - accuracy: 0.8153 - val_loss: 1058.1171 - val_accuracy: 0.3920\n",
      "Epoch 9/10\n",
      "89/89 [==============================] - 14s 157ms/step - loss: 0.4947 - accuracy: 0.8199 - val_loss: 1290.2489 - val_accuracy: 0.3200\n",
      "Epoch 10/10\n",
      "89/89 [==============================] - 14s 157ms/step - loss: 0.4614 - accuracy: 0.8346 - val_loss: 1494.9385 - val_accuracy: 0.3428\n"
     ]
    },
    {
     "data": {
      "text/plain": [
       "<keras.callbacks.History at 0x107336d30>"
      ]
     },
     "execution_count": 10,
     "metadata": {},
     "output_type": "execute_result"
    }
   ],
   "source": [
    "model.fit_generator(x_train,steps_per_epoch=89,\n",
    "                   epochs=10,\n",
    "                   validation_data=x_test\n",
    "                  )"
   ]
  },
  {
   "cell_type": "code",
   "execution_count": 11,
   "id": "c246834c",
   "metadata": {},
   "outputs": [],
   "source": [
    "model.save('vegetable.h5')"
   ]
  }
 ],
 "metadata": {
  "kernelspec": {
   "display_name": "Python 3",
   "language": "python",
   "name": "python3"
  },
  "language_info": {
   "codemirror_mode": {
    "name": "ipython",
    "version": 3
   },
   "file_extension": ".py",
   "mimetype": "text/x-python",
   "name": "python",
   "nbconvert_exporter": "python",
   "pygments_lexer": "ipython3",
   "version": "3.9.7"
  }
 },
 "nbformat": 4,
 "nbformat_minor": 5
}
