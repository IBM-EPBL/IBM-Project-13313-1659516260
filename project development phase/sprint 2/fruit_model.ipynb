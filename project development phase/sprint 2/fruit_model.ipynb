{
 "cells": [
  {
   "cell_type": "code",
   "execution_count": null,
   "id": "d69582fd",
   "metadata": {},
   "outputs": [
    {
     "ename": "",
     "evalue": "",
     "output_type": "error",
     "traceback": [
      "\u001b[1;31mRunning cells with 'Python 3.9.12 64-bit' requires ipykernel package.\n",
      "\u001b[1;31mRun the following command to install 'ipykernel' into the Python environment. \n",
      "\u001b[1;31mCommand: '/opt/homebrew/bin/python3 -m pip install ipykernel -U --user --force-reinstall'"
     ]
    }
   ],
   "source": [
    "import tensorflow as tf"
   ]
  },
  {
   "cell_type": "code",
   "execution_count": 2,
   "id": "06490a34",
   "metadata": {},
   "outputs": [],
   "source": [
    "train_datagen = tf.keras.preprocessing.image.ImageDataGenerator(rescale = 1./255,shear_range = 0.2,zoom_range =0.2,horizontal_flip =True)"
   ]
  },
  {
   "cell_type": "code",
   "execution_count": 5,
   "id": "a151291c",
   "metadata": {},
   "outputs": [],
   "source": [
    "test_datagen = tf.keras.preprocessing.image.ImageDataGenerator(rescale = 1)"
   ]
  },
  {
   "cell_type": "code",
   "execution_count": 11,
   "id": "87f1fdf7",
   "metadata": {},
   "outputs": [
    {
     "name": "stdout",
     "output_type": "stream",
     "text": [
      "Found 5384 images belonging to 6 classes.\n",
      "Found 1686 images belonging to 6 classes.\n"
     ]
    }
   ],
   "source": [
    "x_train = train_datagen.flow_from_directory('Dataset/fruit-dataset/fruit-dataset/train',\n",
    "                                           target_size = (128,128),batch_size = 32, class_mode= 'categorical')\n",
    "x_test = test_datagen.flow_from_directory('Dataset/fruit-dataset/fruit-dataset/test',\n",
    "                                           target_size = (128,128),batch_size = 32, class_mode= 'categorical')"
   ]
  },
  {
   "cell_type": "code",
   "execution_count": 12,
   "id": "7800a702",
   "metadata": {},
   "outputs": [],
   "source": [
    "from tensorflow.keras.models import Sequential\n",
    "from tensorflow.keras.layers import Dense\n",
    "from tensorflow.keras.layers import Convolution2D\n",
    "from tensorflow.keras.layers import MaxPooling2D\n",
    "from tensorflow.keras.layers import Flatten"
   ]
  },
  {
   "cell_type": "code",
   "execution_count": 22,
   "id": "e4e1d264",
   "metadata": {},
   "outputs": [],
   "source": [
    "model = Sequential()\n",
    "model.add(Convolution2D(32,(3,3),input_shape = (128,128,3),activation ='relu'))\n",
    "model.add(MaxPooling2D(pool_size = (2,2)))\n",
    "model.add(Flatten())\n",
    "model.add(Dense(40,activation ='relu'))\n",
    "model.add(Dense(20,activation = 'relu'))\n",
    "model.add(Dense(6,activation ='softmax'))"
   ]
  },
  {
   "cell_type": "code",
   "execution_count": 23,
   "id": "4ba0268e",
   "metadata": {},
   "outputs": [],
   "source": [
    "model.compile(loss='categorical_crossentropy',optimizer='adam',metrics=['accuracy'])"
   ]
  },
  {
   "cell_type": "code",
   "execution_count": 26,
   "id": "b8cbaa95",
   "metadata": {},
   "outputs": [
    {
     "name": "stdout",
     "output_type": "stream",
     "text": [
      "Epoch 1/10\n",
      "169/169 [==============================] - 12s 71ms/step - loss: 0.2445 - accuracy: 0.9168\n",
      "Epoch 2/10\n",
      "169/169 [==============================] - 12s 70ms/step - loss: 0.1937 - accuracy: 0.9363\n",
      "Epoch 3/10\n",
      "169/169 [==============================] - 12s 71ms/step - loss: 0.1559 - accuracy: 0.9437\n",
      "Epoch 4/10\n",
      "169/169 [==============================] - 12s 70ms/step - loss: 0.1381 - accuracy: 0.9534\n",
      "Epoch 5/10\n",
      "169/169 [==============================] - 12s 70ms/step - loss: 0.1317 - accuracy: 0.9530\n",
      "Epoch 6/10\n",
      "169/169 [==============================] - 12s 71ms/step - loss: 0.1157 - accuracy: 0.9606\n",
      "Epoch 7/10\n",
      "169/169 [==============================] - 12s 71ms/step - loss: 0.1046 - accuracy: 0.9649\n",
      "Epoch 8/10\n",
      "169/169 [==============================] - 12s 70ms/step - loss: 0.1078 - accuracy: 0.9632\n",
      "Epoch 9/10\n",
      "169/169 [==============================] - 12s 70ms/step - loss: 0.0947 - accuracy: 0.9677\n",
      "Epoch 10/10\n",
      "169/169 [==============================] - 12s 70ms/step - loss: 0.0883 - accuracy: 0.9714\n"
     ]
    },
    {
     "data": {
      "text/plain": [
       "<keras.callbacks.History at 0x16a959be0>"
      ]
     },
     "execution_count": 26,
     "metadata": {},
     "output_type": "execute_result"
    }
   ],
   "source": [
    "model.fit(x_train,epochs=10,verbose=True)"
   ]
  },
  {
   "cell_type": "code",
   "execution_count": 27,
   "id": "40c2ae28",
   "metadata": {},
   "outputs": [],
   "source": [
    "model.save(\"fruit.h5\")"
   ]
  }
 ],
 "metadata": {
  "kernelspec": {
   "display_name": "Python 3",
   "language": "python",
   "name": "python3"
  },
  "language_info": {
   "codemirror_mode": {
    "name": "ipython",
    "version": 3
   },
   "file_extension": ".py",
   "mimetype": "text/x-python",
   "name": "python",
   "nbconvert_exporter": "python",
   "pygments_lexer": "ipython3",
   "version": "3.9.7"
  },
  "vscode": {
   "interpreter": {
    "hash": "b0fa6594d8f4cbf19f97940f81e996739fb7646882a419484c72d19e05852a7e"
   }
  }
 },
 "nbformat": 4,
 "nbformat_minor": 5
}
