{
 "cells": [
  {
   "cell_type": "code",
   "execution_count": 1,
   "id": "558607b7",
   "metadata": {},
   "outputs": [],
   "source": [
    "import tensorflow as tf"
   ]
  },
  {
   "cell_type": "code",
   "execution_count": 3,
   "id": "5095eec9",
   "metadata": {},
   "outputs": [],
   "source": [
    "model = tf.keras.models.load_model('fruit.h5')"
   ]
  },
  {
   "cell_type": "code",
   "execution_count": 6,
   "id": "e9fc6988",
   "metadata": {},
   "outputs": [],
   "source": [
    "import os\n",
    "os.chdir('Dataset/fruit-dataset/fruit-dataset/train/Apple___healthy')\n"
   ]
  },
  {
   "cell_type": "code",
   "execution_count": 15,
   "id": "7528a987",
   "metadata": {},
   "outputs": [],
   "source": [
    "img = tf.keras.utils.load_img('0055dd26-23a7-4415-ac61-e0b44ebfaf80___RS_HL 5672.JPG',target_size=(128,128))"
   ]
  },
  {
   "cell_type": "code",
   "execution_count": 17,
   "id": "a55dcfad",
   "metadata": {},
   "outputs": [],
   "source": [
    "image = tf.keras.utils.img_to_array(img)"
   ]
  },
  {
   "cell_type": "code",
   "execution_count": 27,
   "id": "f9c86efa",
   "metadata": {},
   "outputs": [],
   "source": [
    "image = image.reshape((1,128,128,3))"
   ]
  },
  {
   "cell_type": "code",
   "execution_count": 29,
   "id": "dbd33cf3",
   "metadata": {},
   "outputs": [
    {
     "data": {
      "text/plain": [
       "(1, 128, 128, 3)"
      ]
     },
     "execution_count": 29,
     "metadata": {},
     "output_type": "execute_result"
    }
   ],
   "source": [
    "image.shape"
   ]
  },
  {
   "cell_type": "code",
   "execution_count": 30,
   "id": "88f6ae61",
   "metadata": {},
   "outputs": [],
   "source": [
    "category = model.predict(image)"
   ]
  },
  {
   "cell_type": "code",
   "execution_count": 33,
   "id": "1bace187",
   "metadata": {},
   "outputs": [],
   "source": [
    "import numpy as np"
   ]
  },
  {
   "cell_type": "code",
   "execution_count": 35,
   "id": "9aa78967",
   "metadata": {},
   "outputs": [],
   "source": [
    "classes = ['apple_black_rot','apple_healthy,','corn_healthy','corn_blight','peach_healthy','peach_rot']"
   ]
  },
  {
   "cell_type": "code",
   "execution_count": 36,
   "id": "927c0c69",
   "metadata": {},
   "outputs": [
    {
     "data": {
      "text/plain": [
       "'apple_black_rot'"
      ]
     },
     "execution_count": 36,
     "metadata": {},
     "output_type": "execute_result"
    }
   ],
   "source": [
    "classes[np.argmax(category[0])]"
   ]
  }
 ],
 "metadata": {
  "kernelspec": {
   "display_name": "Python 3",
   "language": "python",
   "name": "python3"
  },
  "language_info": {
   "codemirror_mode": {
    "name": "ipython",
    "version": 3
   },
   "file_extension": ".py",
   "mimetype": "text/x-python",
   "name": "python",
   "nbconvert_exporter": "python",
   "pygments_lexer": "ipython3",
   "version": "3.9.7"
  }
 },
 "nbformat": 4,
 "nbformat_minor": 5
}
